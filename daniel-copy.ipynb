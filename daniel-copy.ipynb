{
 "cells": [
  {
   "cell_type": "markdown",
   "id": "8a19ae70-6f1e-4f0c-8140-5d9a40ad5ca9",
   "metadata": {},
   "source": [
    "# Homework 2: Learning about Datasets"
   ]
  },
  {
   "cell_type": "code",
   "execution_count": 1,
   "id": "271290c3-cc32-4311-969c-3037e2d80b9d",
   "metadata": {},
   "outputs": [],
   "source": [
    "#Import necessary packages\n",
    "import numpy as np\n",
    "import pandas as pd\n",
    "import matplotlib.pyplot as plt\n",
    "import xarray as xr\n",
    "import geopandas as gpd"
   ]
  },
  {
   "cell_type": "markdown",
   "id": "c01523b4-64b6-49b8-97a6-64931e083ee2",
   "metadata": {},
   "source": [
    "# NASA Earth Exchange (NEX) Downscaled Climate Projections (NEX-DCP30) dataset for the conterminous United States\n",
    "\n",
    "## About the data\n",
    "Modelled data generated from the General Circulation Model(GCM) runs under 33 different Coupled Model Intercomparison Project Phase 5(CMIP5) models. The modelled data projections are available for four greenhouse gas emissions scenarios known as Representative Concentration Pathways(RCPs)  labelled after the range of radiative forcing values in the year 2100 (2.6, 4.5, 6, and 8.5 W/m2).\n",
    "\n",
    "## Data Access\n",
    "Data can be download in a variety of ways at this link https://www.nccs.nasa.gov/services/data-collections/land-based-products/nex-dcp30 through the THREDDS Data Server.\n",
    "For ease of use, our team used the NetcdfSubset method which allowed for input of desired consituents, geographic bounding box in latitude and longitude and time interval of interest. \n",
    "\n",
    "## Main constituents:\n",
    "Precipitation (monthly mean of the daily precipitation rate)(kg/m2s)\n",
    "Temperature (monthly mean of the daily predicted temperature)(deg K) \n",
    "\n",
    "## Data File Format: \n",
    "netcdf file\n",
    "-one monthly averaged value for each month from 2006 to 2099\n",
    "-monthly average can be based off of daily min, max, average and quartiles for each constituent\n",
    "-your selected file will contain the variables you request for the spatial and temporal subset you specify in the NetcdfSubset access url \n",
    "\n",
    "## Metadata Format:\n",
    "Since the data was in netcdf format, the metadata was contained within each downloaded file. The website source also provides a very useful Tech note which is accessed here: https://www.nccs.nasa.gov/sites/default/files/NEX-DCP30_Tech_Note.pdf\n",
    "\n",
    "\n",
    "\n"
   ]
  },
  {
   "cell_type": "markdown",
   "id": "17030f7b-b070-41f8-9a6f-870a02d031db",
   "metadata": {},
   "source": [
    "## 1. Write code to load in the dataset"
   ]
  },
  {
   "cell_type": "markdown",
   "id": "a1ab9fbb-6e74-4fdb-acc0-7445336ef74c",
   "metadata": {},
   "source": [
    "## Loading Example Dataset \n",
    "Decided to focus on the RCP 8.5 dataset which is the most extreme emissions scenario for Santa Barbara area (9 cells centered on 34.4208° N, 119.6982° W). \n",
    "\n",
    "Downloaded Monthly Averages:\n",
    "-Daily Mean Preciptation rate\n",
    "-Daily Maximum Temperature\n",
    "-Daily Minimum Temperature"
   ]
  },
  {
   "cell_type": "code",
   "execution_count": 2,
   "id": "a5ce9fe8-08d0-400b-9d88-70f3dfe257dc",
   "metadata": {},
   "outputs": [
    {
     "ename": "FileNotFoundError",
     "evalue": "[Errno 2] No such file or directory: b'/Users/danielkerstan/Desktop/EDS_211/notebook/sb_mean_precip_data.nc'",
     "output_type": "error",
     "traceback": [
      "\u001b[0;31m---------------------------------------------------------------------------\u001b[0m",
      "\u001b[0;31mKeyError\u001b[0m                                  Traceback (most recent call last)",
      "\u001b[0;32m~/opt/anaconda3/envs/opendap_working/lib/python3.7/site-packages/xarray/backends/file_manager.py\u001b[0m in \u001b[0;36m_acquire_with_cache_info\u001b[0;34m(self, needs_lock)\u001b[0m\n\u001b[1;32m    198\u001b[0m             \u001b[0;32mtry\u001b[0m\u001b[0;34m:\u001b[0m\u001b[0;34m\u001b[0m\u001b[0;34m\u001b[0m\u001b[0m\n\u001b[0;32m--> 199\u001b[0;31m                 \u001b[0mfile\u001b[0m \u001b[0;34m=\u001b[0m \u001b[0mself\u001b[0m\u001b[0;34m.\u001b[0m\u001b[0m_cache\u001b[0m\u001b[0;34m[\u001b[0m\u001b[0mself\u001b[0m\u001b[0;34m.\u001b[0m\u001b[0m_key\u001b[0m\u001b[0;34m]\u001b[0m\u001b[0;34m\u001b[0m\u001b[0;34m\u001b[0m\u001b[0m\n\u001b[0m\u001b[1;32m    200\u001b[0m             \u001b[0;32mexcept\u001b[0m \u001b[0mKeyError\u001b[0m\u001b[0;34m:\u001b[0m\u001b[0;34m\u001b[0m\u001b[0;34m\u001b[0m\u001b[0m\n",
      "\u001b[0;32m~/opt/anaconda3/envs/opendap_working/lib/python3.7/site-packages/xarray/backends/lru_cache.py\u001b[0m in \u001b[0;36m__getitem__\u001b[0;34m(self, key)\u001b[0m\n\u001b[1;32m     52\u001b[0m         \u001b[0;32mwith\u001b[0m \u001b[0mself\u001b[0m\u001b[0;34m.\u001b[0m\u001b[0m_lock\u001b[0m\u001b[0;34m:\u001b[0m\u001b[0;34m\u001b[0m\u001b[0;34m\u001b[0m\u001b[0m\n\u001b[0;32m---> 53\u001b[0;31m             \u001b[0mvalue\u001b[0m \u001b[0;34m=\u001b[0m \u001b[0mself\u001b[0m\u001b[0;34m.\u001b[0m\u001b[0m_cache\u001b[0m\u001b[0;34m[\u001b[0m\u001b[0mkey\u001b[0m\u001b[0;34m]\u001b[0m\u001b[0;34m\u001b[0m\u001b[0;34m\u001b[0m\u001b[0m\n\u001b[0m\u001b[1;32m     54\u001b[0m             \u001b[0mself\u001b[0m\u001b[0;34m.\u001b[0m\u001b[0m_cache\u001b[0m\u001b[0;34m.\u001b[0m\u001b[0mmove_to_end\u001b[0m\u001b[0;34m(\u001b[0m\u001b[0mkey\u001b[0m\u001b[0;34m)\u001b[0m\u001b[0;34m\u001b[0m\u001b[0;34m\u001b[0m\u001b[0m\n",
      "\u001b[0;31mKeyError\u001b[0m: [<class 'netCDF4._netCDF4.Dataset'>, ('/Users/danielkerstan/Desktop/EDS_211/notebook/sb_mean_precip_data.nc',), 'r', (('clobber', True), ('diskless', False), ('format', 'NETCDF4'), ('persist', False))]",
      "\nDuring handling of the above exception, another exception occurred:\n",
      "\u001b[0;31mFileNotFoundError\u001b[0m                         Traceback (most recent call last)",
      "\u001b[0;32m/var/folders/gg/hfy4b47j3f78k27tmd3mbfq80000gn/T/ipykernel_31480/4112587887.py\u001b[0m in \u001b[0;36m<module>\u001b[0;34m\u001b[0m\n\u001b[1;32m      1\u001b[0m \u001b[0;31m# xarray was used to load in the data\u001b[0m\u001b[0;34m\u001b[0m\u001b[0;34m\u001b[0m\u001b[0;34m\u001b[0m\u001b[0m\n\u001b[0;32m----> 2\u001b[0;31m \u001b[0msb_mean_precip\u001b[0m \u001b[0;34m=\u001b[0m \u001b[0mxr\u001b[0m\u001b[0;34m.\u001b[0m\u001b[0mopen_dataset\u001b[0m\u001b[0;34m(\u001b[0m\u001b[0;34m'sb_mean_precip_data.nc'\u001b[0m\u001b[0;34m)\u001b[0m\u001b[0;34m\u001b[0m\u001b[0;34m\u001b[0m\u001b[0m\n\u001b[0m\u001b[1;32m      3\u001b[0m \u001b[0msb_mean_max_temp\u001b[0m \u001b[0;34m=\u001b[0m \u001b[0mxr\u001b[0m\u001b[0;34m.\u001b[0m\u001b[0mopen_dataset\u001b[0m\u001b[0;34m(\u001b[0m\u001b[0;34m'sb_mean_max_temp.nc'\u001b[0m\u001b[0;34m)\u001b[0m\u001b[0;34m\u001b[0m\u001b[0;34m\u001b[0m\u001b[0m\n\u001b[1;32m      4\u001b[0m \u001b[0msb_mean_min_temp\u001b[0m \u001b[0;34m=\u001b[0m \u001b[0mxr\u001b[0m\u001b[0;34m.\u001b[0m\u001b[0mopen_dataset\u001b[0m\u001b[0;34m(\u001b[0m\u001b[0;34m'sb_mean_min_temp.nc'\u001b[0m\u001b[0;34m)\u001b[0m\u001b[0;34m\u001b[0m\u001b[0;34m\u001b[0m\u001b[0m\n",
      "\u001b[0;32m~/opt/anaconda3/envs/opendap_working/lib/python3.7/site-packages/xarray/backends/api.py\u001b[0m in \u001b[0;36mopen_dataset\u001b[0;34m(filename_or_obj, engine, chunks, cache, decode_cf, mask_and_scale, decode_times, decode_timedelta, use_cftime, concat_characters, decode_coords, drop_variables, backend_kwargs, *args, **kwargs)\u001b[0m\n\u001b[1;32m    497\u001b[0m         \u001b[0mdrop_variables\u001b[0m\u001b[0;34m=\u001b[0m\u001b[0mdrop_variables\u001b[0m\u001b[0;34m,\u001b[0m\u001b[0;34m\u001b[0m\u001b[0;34m\u001b[0m\u001b[0m\n\u001b[1;32m    498\u001b[0m         \u001b[0;34m**\u001b[0m\u001b[0mdecoders\u001b[0m\u001b[0;34m,\u001b[0m\u001b[0;34m\u001b[0m\u001b[0;34m\u001b[0m\u001b[0m\n\u001b[0;32m--> 499\u001b[0;31m         \u001b[0;34m**\u001b[0m\u001b[0mkwargs\u001b[0m\u001b[0;34m,\u001b[0m\u001b[0;34m\u001b[0m\u001b[0;34m\u001b[0m\u001b[0m\n\u001b[0m\u001b[1;32m    500\u001b[0m     )\n\u001b[1;32m    501\u001b[0m     ds = _dataset_from_backend_dataset(\n",
      "\u001b[0;32m~/opt/anaconda3/envs/opendap_working/lib/python3.7/site-packages/xarray/backends/netCDF4_.py\u001b[0m in \u001b[0;36mopen_dataset\u001b[0;34m(self, filename_or_obj, mask_and_scale, decode_times, concat_characters, decode_coords, drop_variables, use_cftime, decode_timedelta, group, mode, format, clobber, diskless, persist, lock, autoclose)\u001b[0m\n\u001b[1;32m    557\u001b[0m             \u001b[0mpersist\u001b[0m\u001b[0;34m=\u001b[0m\u001b[0mpersist\u001b[0m\u001b[0;34m,\u001b[0m\u001b[0;34m\u001b[0m\u001b[0;34m\u001b[0m\u001b[0m\n\u001b[1;32m    558\u001b[0m             \u001b[0mlock\u001b[0m\u001b[0;34m=\u001b[0m\u001b[0mlock\u001b[0m\u001b[0;34m,\u001b[0m\u001b[0;34m\u001b[0m\u001b[0;34m\u001b[0m\u001b[0m\n\u001b[0;32m--> 559\u001b[0;31m             \u001b[0mautoclose\u001b[0m\u001b[0;34m=\u001b[0m\u001b[0mautoclose\u001b[0m\u001b[0;34m,\u001b[0m\u001b[0;34m\u001b[0m\u001b[0;34m\u001b[0m\u001b[0m\n\u001b[0m\u001b[1;32m    560\u001b[0m         )\n\u001b[1;32m    561\u001b[0m \u001b[0;34m\u001b[0m\u001b[0m\n",
      "\u001b[0;32m~/opt/anaconda3/envs/opendap_working/lib/python3.7/site-packages/xarray/backends/netCDF4_.py\u001b[0m in \u001b[0;36mopen\u001b[0;34m(cls, filename, mode, format, group, clobber, diskless, persist, lock, lock_maker, autoclose)\u001b[0m\n\u001b[1;32m    377\u001b[0m             \u001b[0mnetCDF4\u001b[0m\u001b[0;34m.\u001b[0m\u001b[0mDataset\u001b[0m\u001b[0;34m,\u001b[0m \u001b[0mfilename\u001b[0m\u001b[0;34m,\u001b[0m \u001b[0mmode\u001b[0m\u001b[0;34m=\u001b[0m\u001b[0mmode\u001b[0m\u001b[0;34m,\u001b[0m \u001b[0mkwargs\u001b[0m\u001b[0;34m=\u001b[0m\u001b[0mkwargs\u001b[0m\u001b[0;34m\u001b[0m\u001b[0;34m\u001b[0m\u001b[0m\n\u001b[1;32m    378\u001b[0m         )\n\u001b[0;32m--> 379\u001b[0;31m         \u001b[0;32mreturn\u001b[0m \u001b[0mcls\u001b[0m\u001b[0;34m(\u001b[0m\u001b[0mmanager\u001b[0m\u001b[0;34m,\u001b[0m \u001b[0mgroup\u001b[0m\u001b[0;34m=\u001b[0m\u001b[0mgroup\u001b[0m\u001b[0;34m,\u001b[0m \u001b[0mmode\u001b[0m\u001b[0;34m=\u001b[0m\u001b[0mmode\u001b[0m\u001b[0;34m,\u001b[0m \u001b[0mlock\u001b[0m\u001b[0;34m=\u001b[0m\u001b[0mlock\u001b[0m\u001b[0;34m,\u001b[0m \u001b[0mautoclose\u001b[0m\u001b[0;34m=\u001b[0m\u001b[0mautoclose\u001b[0m\u001b[0;34m)\u001b[0m\u001b[0;34m\u001b[0m\u001b[0;34m\u001b[0m\u001b[0m\n\u001b[0m\u001b[1;32m    380\u001b[0m \u001b[0;34m\u001b[0m\u001b[0m\n\u001b[1;32m    381\u001b[0m     \u001b[0;32mdef\u001b[0m \u001b[0m_acquire\u001b[0m\u001b[0;34m(\u001b[0m\u001b[0mself\u001b[0m\u001b[0;34m,\u001b[0m \u001b[0mneeds_lock\u001b[0m\u001b[0;34m=\u001b[0m\u001b[0;32mTrue\u001b[0m\u001b[0;34m)\u001b[0m\u001b[0;34m:\u001b[0m\u001b[0;34m\u001b[0m\u001b[0;34m\u001b[0m\u001b[0m\n",
      "\u001b[0;32m~/opt/anaconda3/envs/opendap_working/lib/python3.7/site-packages/xarray/backends/netCDF4_.py\u001b[0m in \u001b[0;36m__init__\u001b[0;34m(self, manager, group, mode, lock, autoclose)\u001b[0m\n\u001b[1;32m    325\u001b[0m         \u001b[0mself\u001b[0m\u001b[0;34m.\u001b[0m\u001b[0m_group\u001b[0m \u001b[0;34m=\u001b[0m \u001b[0mgroup\u001b[0m\u001b[0;34m\u001b[0m\u001b[0;34m\u001b[0m\u001b[0m\n\u001b[1;32m    326\u001b[0m         \u001b[0mself\u001b[0m\u001b[0;34m.\u001b[0m\u001b[0m_mode\u001b[0m \u001b[0;34m=\u001b[0m \u001b[0mmode\u001b[0m\u001b[0;34m\u001b[0m\u001b[0;34m\u001b[0m\u001b[0m\n\u001b[0;32m--> 327\u001b[0;31m         \u001b[0mself\u001b[0m\u001b[0;34m.\u001b[0m\u001b[0mformat\u001b[0m \u001b[0;34m=\u001b[0m \u001b[0mself\u001b[0m\u001b[0;34m.\u001b[0m\u001b[0mds\u001b[0m\u001b[0;34m.\u001b[0m\u001b[0mdata_model\u001b[0m\u001b[0;34m\u001b[0m\u001b[0;34m\u001b[0m\u001b[0m\n\u001b[0m\u001b[1;32m    328\u001b[0m         \u001b[0mself\u001b[0m\u001b[0;34m.\u001b[0m\u001b[0m_filename\u001b[0m \u001b[0;34m=\u001b[0m \u001b[0mself\u001b[0m\u001b[0;34m.\u001b[0m\u001b[0mds\u001b[0m\u001b[0;34m.\u001b[0m\u001b[0mfilepath\u001b[0m\u001b[0;34m(\u001b[0m\u001b[0;34m)\u001b[0m\u001b[0;34m\u001b[0m\u001b[0;34m\u001b[0m\u001b[0m\n\u001b[1;32m    329\u001b[0m         \u001b[0mself\u001b[0m\u001b[0;34m.\u001b[0m\u001b[0mis_remote\u001b[0m \u001b[0;34m=\u001b[0m \u001b[0mis_remote_uri\u001b[0m\u001b[0;34m(\u001b[0m\u001b[0mself\u001b[0m\u001b[0;34m.\u001b[0m\u001b[0m_filename\u001b[0m\u001b[0;34m)\u001b[0m\u001b[0;34m\u001b[0m\u001b[0;34m\u001b[0m\u001b[0m\n",
      "\u001b[0;32m~/opt/anaconda3/envs/opendap_working/lib/python3.7/site-packages/xarray/backends/netCDF4_.py\u001b[0m in \u001b[0;36mds\u001b[0;34m(self)\u001b[0m\n\u001b[1;32m    386\u001b[0m     \u001b[0;34m@\u001b[0m\u001b[0mproperty\u001b[0m\u001b[0;34m\u001b[0m\u001b[0;34m\u001b[0m\u001b[0m\n\u001b[1;32m    387\u001b[0m     \u001b[0;32mdef\u001b[0m \u001b[0mds\u001b[0m\u001b[0;34m(\u001b[0m\u001b[0mself\u001b[0m\u001b[0;34m)\u001b[0m\u001b[0;34m:\u001b[0m\u001b[0;34m\u001b[0m\u001b[0;34m\u001b[0m\u001b[0m\n\u001b[0;32m--> 388\u001b[0;31m         \u001b[0;32mreturn\u001b[0m \u001b[0mself\u001b[0m\u001b[0;34m.\u001b[0m\u001b[0m_acquire\u001b[0m\u001b[0;34m(\u001b[0m\u001b[0;34m)\u001b[0m\u001b[0;34m\u001b[0m\u001b[0;34m\u001b[0m\u001b[0m\n\u001b[0m\u001b[1;32m    389\u001b[0m \u001b[0;34m\u001b[0m\u001b[0m\n\u001b[1;32m    390\u001b[0m     \u001b[0;32mdef\u001b[0m \u001b[0mopen_store_variable\u001b[0m\u001b[0;34m(\u001b[0m\u001b[0mself\u001b[0m\u001b[0;34m,\u001b[0m \u001b[0mname\u001b[0m\u001b[0;34m,\u001b[0m \u001b[0mvar\u001b[0m\u001b[0;34m)\u001b[0m\u001b[0;34m:\u001b[0m\u001b[0;34m\u001b[0m\u001b[0;34m\u001b[0m\u001b[0m\n",
      "\u001b[0;32m~/opt/anaconda3/envs/opendap_working/lib/python3.7/site-packages/xarray/backends/netCDF4_.py\u001b[0m in \u001b[0;36m_acquire\u001b[0;34m(self, needs_lock)\u001b[0m\n\u001b[1;32m    380\u001b[0m \u001b[0;34m\u001b[0m\u001b[0m\n\u001b[1;32m    381\u001b[0m     \u001b[0;32mdef\u001b[0m \u001b[0m_acquire\u001b[0m\u001b[0;34m(\u001b[0m\u001b[0mself\u001b[0m\u001b[0;34m,\u001b[0m \u001b[0mneeds_lock\u001b[0m\u001b[0;34m=\u001b[0m\u001b[0;32mTrue\u001b[0m\u001b[0;34m)\u001b[0m\u001b[0;34m:\u001b[0m\u001b[0;34m\u001b[0m\u001b[0;34m\u001b[0m\u001b[0m\n\u001b[0;32m--> 382\u001b[0;31m         \u001b[0;32mwith\u001b[0m \u001b[0mself\u001b[0m\u001b[0;34m.\u001b[0m\u001b[0m_manager\u001b[0m\u001b[0;34m.\u001b[0m\u001b[0macquire_context\u001b[0m\u001b[0;34m(\u001b[0m\u001b[0mneeds_lock\u001b[0m\u001b[0;34m)\u001b[0m \u001b[0;32mas\u001b[0m \u001b[0mroot\u001b[0m\u001b[0;34m:\u001b[0m\u001b[0;34m\u001b[0m\u001b[0;34m\u001b[0m\u001b[0m\n\u001b[0m\u001b[1;32m    383\u001b[0m             \u001b[0mds\u001b[0m \u001b[0;34m=\u001b[0m \u001b[0m_nc4_require_group\u001b[0m\u001b[0;34m(\u001b[0m\u001b[0mroot\u001b[0m\u001b[0;34m,\u001b[0m \u001b[0mself\u001b[0m\u001b[0;34m.\u001b[0m\u001b[0m_group\u001b[0m\u001b[0;34m,\u001b[0m \u001b[0mself\u001b[0m\u001b[0;34m.\u001b[0m\u001b[0m_mode\u001b[0m\u001b[0;34m)\u001b[0m\u001b[0;34m\u001b[0m\u001b[0;34m\u001b[0m\u001b[0m\n\u001b[1;32m    384\u001b[0m         \u001b[0;32mreturn\u001b[0m \u001b[0mds\u001b[0m\u001b[0;34m\u001b[0m\u001b[0;34m\u001b[0m\u001b[0m\n",
      "\u001b[0;32m~/opt/anaconda3/envs/opendap_working/lib/python3.7/contextlib.py\u001b[0m in \u001b[0;36m__enter__\u001b[0;34m(self)\u001b[0m\n\u001b[1;32m    110\u001b[0m         \u001b[0;32mdel\u001b[0m \u001b[0mself\u001b[0m\u001b[0;34m.\u001b[0m\u001b[0margs\u001b[0m\u001b[0;34m,\u001b[0m \u001b[0mself\u001b[0m\u001b[0;34m.\u001b[0m\u001b[0mkwds\u001b[0m\u001b[0;34m,\u001b[0m \u001b[0mself\u001b[0m\u001b[0;34m.\u001b[0m\u001b[0mfunc\u001b[0m\u001b[0;34m\u001b[0m\u001b[0;34m\u001b[0m\u001b[0m\n\u001b[1;32m    111\u001b[0m         \u001b[0;32mtry\u001b[0m\u001b[0;34m:\u001b[0m\u001b[0;34m\u001b[0m\u001b[0;34m\u001b[0m\u001b[0m\n\u001b[0;32m--> 112\u001b[0;31m             \u001b[0;32mreturn\u001b[0m \u001b[0mnext\u001b[0m\u001b[0;34m(\u001b[0m\u001b[0mself\u001b[0m\u001b[0;34m.\u001b[0m\u001b[0mgen\u001b[0m\u001b[0;34m)\u001b[0m\u001b[0;34m\u001b[0m\u001b[0;34m\u001b[0m\u001b[0m\n\u001b[0m\u001b[1;32m    113\u001b[0m         \u001b[0;32mexcept\u001b[0m \u001b[0mStopIteration\u001b[0m\u001b[0;34m:\u001b[0m\u001b[0;34m\u001b[0m\u001b[0;34m\u001b[0m\u001b[0m\n\u001b[1;32m    114\u001b[0m             \u001b[0;32mraise\u001b[0m \u001b[0mRuntimeError\u001b[0m\u001b[0;34m(\u001b[0m\u001b[0;34m\"generator didn't yield\"\u001b[0m\u001b[0;34m)\u001b[0m \u001b[0;32mfrom\u001b[0m \u001b[0;32mNone\u001b[0m\u001b[0;34m\u001b[0m\u001b[0;34m\u001b[0m\u001b[0m\n",
      "\u001b[0;32m~/opt/anaconda3/envs/opendap_working/lib/python3.7/site-packages/xarray/backends/file_manager.py\u001b[0m in \u001b[0;36macquire_context\u001b[0;34m(self, needs_lock)\u001b[0m\n\u001b[1;32m    185\u001b[0m     \u001b[0;32mdef\u001b[0m \u001b[0macquire_context\u001b[0m\u001b[0;34m(\u001b[0m\u001b[0mself\u001b[0m\u001b[0;34m,\u001b[0m \u001b[0mneeds_lock\u001b[0m\u001b[0;34m=\u001b[0m\u001b[0;32mTrue\u001b[0m\u001b[0;34m)\u001b[0m\u001b[0;34m:\u001b[0m\u001b[0;34m\u001b[0m\u001b[0;34m\u001b[0m\u001b[0m\n\u001b[1;32m    186\u001b[0m         \u001b[0;34m\"\"\"Context manager for acquiring a file.\"\"\"\u001b[0m\u001b[0;34m\u001b[0m\u001b[0;34m\u001b[0m\u001b[0m\n\u001b[0;32m--> 187\u001b[0;31m         \u001b[0mfile\u001b[0m\u001b[0;34m,\u001b[0m \u001b[0mcached\u001b[0m \u001b[0;34m=\u001b[0m \u001b[0mself\u001b[0m\u001b[0;34m.\u001b[0m\u001b[0m_acquire_with_cache_info\u001b[0m\u001b[0;34m(\u001b[0m\u001b[0mneeds_lock\u001b[0m\u001b[0;34m)\u001b[0m\u001b[0;34m\u001b[0m\u001b[0;34m\u001b[0m\u001b[0m\n\u001b[0m\u001b[1;32m    188\u001b[0m         \u001b[0;32mtry\u001b[0m\u001b[0;34m:\u001b[0m\u001b[0;34m\u001b[0m\u001b[0;34m\u001b[0m\u001b[0m\n\u001b[1;32m    189\u001b[0m             \u001b[0;32myield\u001b[0m \u001b[0mfile\u001b[0m\u001b[0;34m\u001b[0m\u001b[0;34m\u001b[0m\u001b[0m\n",
      "\u001b[0;32m~/opt/anaconda3/envs/opendap_working/lib/python3.7/site-packages/xarray/backends/file_manager.py\u001b[0m in \u001b[0;36m_acquire_with_cache_info\u001b[0;34m(self, needs_lock)\u001b[0m\n\u001b[1;32m    203\u001b[0m                     \u001b[0mkwargs\u001b[0m \u001b[0;34m=\u001b[0m \u001b[0mkwargs\u001b[0m\u001b[0;34m.\u001b[0m\u001b[0mcopy\u001b[0m\u001b[0;34m(\u001b[0m\u001b[0;34m)\u001b[0m\u001b[0;34m\u001b[0m\u001b[0;34m\u001b[0m\u001b[0m\n\u001b[1;32m    204\u001b[0m                     \u001b[0mkwargs\u001b[0m\u001b[0;34m[\u001b[0m\u001b[0;34m\"mode\"\u001b[0m\u001b[0;34m]\u001b[0m \u001b[0;34m=\u001b[0m \u001b[0mself\u001b[0m\u001b[0;34m.\u001b[0m\u001b[0m_mode\u001b[0m\u001b[0;34m\u001b[0m\u001b[0;34m\u001b[0m\u001b[0m\n\u001b[0;32m--> 205\u001b[0;31m                 \u001b[0mfile\u001b[0m \u001b[0;34m=\u001b[0m \u001b[0mself\u001b[0m\u001b[0;34m.\u001b[0m\u001b[0m_opener\u001b[0m\u001b[0;34m(\u001b[0m\u001b[0;34m*\u001b[0m\u001b[0mself\u001b[0m\u001b[0;34m.\u001b[0m\u001b[0m_args\u001b[0m\u001b[0;34m,\u001b[0m \u001b[0;34m**\u001b[0m\u001b[0mkwargs\u001b[0m\u001b[0;34m)\u001b[0m\u001b[0;34m\u001b[0m\u001b[0;34m\u001b[0m\u001b[0m\n\u001b[0m\u001b[1;32m    206\u001b[0m                 \u001b[0;32mif\u001b[0m \u001b[0mself\u001b[0m\u001b[0;34m.\u001b[0m\u001b[0m_mode\u001b[0m \u001b[0;34m==\u001b[0m \u001b[0;34m\"w\"\u001b[0m\u001b[0;34m:\u001b[0m\u001b[0;34m\u001b[0m\u001b[0;34m\u001b[0m\u001b[0m\n\u001b[1;32m    207\u001b[0m                     \u001b[0;31m# ensure file doesn't get overriden when opened again\u001b[0m\u001b[0;34m\u001b[0m\u001b[0;34m\u001b[0m\u001b[0;34m\u001b[0m\u001b[0m\n",
      "\u001b[0;32mnetCDF4/_netCDF4.pyx\u001b[0m in \u001b[0;36mnetCDF4._netCDF4.Dataset.__init__\u001b[0;34m()\u001b[0m\n",
      "\u001b[0;32mnetCDF4/_netCDF4.pyx\u001b[0m in \u001b[0;36mnetCDF4._netCDF4._ensure_nc_success\u001b[0;34m()\u001b[0m\n",
      "\u001b[0;31mFileNotFoundError\u001b[0m: [Errno 2] No such file or directory: b'/Users/danielkerstan/Desktop/EDS_211/notebook/sb_mean_precip_data.nc'"
     ]
    }
   ],
   "source": [
    "# xarray was used to load in the data\n",
    "sb_mean_precip = xr.open_dataset('sb_mean_precip_data.nc')\n",
    "sb_mean_max_temp = xr.open_dataset('sb_mean_max_temp.nc')\n",
    "sb_mean_min_temp = xr.open_dataset('sb_mean_min_temp.nc')"
   ]
  },
  {
   "cell_type": "code",
   "execution_count": null,
   "id": "efcae130-e935-48c3-b520-00e493777d8f",
   "metadata": {},
   "outputs": [],
   "source": [
    "#view metadata\n",
    "sb_mean_max_temp"
   ]
  },
  {
   "cell_type": "markdown",
   "id": "658405f1-f029-4916-ab67-f589d4ff2c2b",
   "metadata": {},
   "source": [
    "## Date and Geospatial Format\n",
    "Metadata indicates that date is in datetime64 format and geospatial information in stored as lat and lon(float64). "
   ]
  },
  {
   "cell_type": "markdown",
   "id": "f88d563b-6a4f-45cf-bda9-093c5bf5afc5",
   "metadata": {},
   "source": [
    "# 2. Investigate data quality"
   ]
  },
  {
   "cell_type": "markdown",
   "id": "298255c5-4a4b-46be-b6b3-3b108b9bb016",
   "metadata": {},
   "source": [
    "## Spatial Coverage: \n",
    "Contiguous US at a spatial resolution of 30 arc-seconds/0.00833 degrees(approximately 800 meters)\n",
    "\n",
    "## Temporal Coverage: \n",
    "Monthly average of 1950 through 2005 (“Retrospective Run”) and from 2006 to 2099 (“Prospective Run”)\n",
    "\n",
    "The spatial and temporal coverage of this dataset are one of the key strength of the datsets. However, since it's modelled data, it comes with a set of assumptions. "
   ]
  },
  {
   "cell_type": "markdown",
   "id": "02417c10-6680-47b9-8cb8-42ac16af4cd1",
   "metadata": {},
   "source": [
    "## Assumptions: \n",
    "\n",
    "Relative spatial patterns in temperature and precipitation observed from 1950 through 2005 will remain constant under future climate change. \n",
    "\n",
    "Does not add information beyond what is contained in the original CMIP5 scenarios, and preserves the frequency of periods of anomalously high and low temperature or precipitation (i.e., extreme events) within each individual CMIP5 scenario."
   ]
  },
  {
   "cell_type": "markdown",
   "id": "bda40698-4fb6-44bf-8b6c-d491f00ac7a4",
   "metadata": {},
   "source": [
    "## Bias Correction-Spatial Disaggregation (BSCD)\n",
    "\n",
    "***Problem: Biased data unsuitable for local level decision making.*** \n",
    "\n",
    "Original GCM model runs are run at coarse resolution which is not at the level of detail required for local decision making. In addition, although the projections are globally accurate there may be considerable bias at the local level since it does not take into account local topography.\n",
    "\n",
    "***Solution: BSCD using PRISM (observational climate data from meteorological stations)***\n",
    "\n",
    "The Bias-Correction step corrects the bias of the GCM data through comparisons performed against the observationally-based PRISM data.\n",
    "The Spatial-Disaggregation step spatially interpolates the bias-corrected GCM data to the finer resolution grid of the 30-arc second PRISM data."
   ]
  },
  {
   "cell_type": "markdown",
   "id": "2343c65d-05fa-41dd-b8fa-98b78cdd574c",
   "metadata": {},
   "source": [
    "# 3. Consider appropriate use cases"
   ]
  },
  {
   "cell_type": "markdown",
   "id": "5064d23d-fc00-4330-bfde-8c0c501925da",
   "metadata": {},
   "source": [
    "The goal of this dataset is to “[Assist in] conducting studies of climate change impacts at local to regional scales, and to enhance public understanding of possible future climate patterns and climate impacts at the scale of individual neighborhoods and communities.”\n",
    "\n",
    "This could be important for building and planning of cities, regions, or even individual neighborhoods.\n",
    "\n",
    "Example use cases include: \n",
    "\n",
    "1. Watershed Management on a local level based on future precipitation trends\n",
    "\n",
    "2. Building code updates based on projected changes in temperatures\n",
    "\n",
    "3. Developing strategic plans for heatwaves, floods, wildfires and other natural disasters based on local level impacts \n",
    "\n",
    "The high spatial and temporal resolution allows for identification of detection of long-term trends on a local level. \n",
    "\n",
    "The monthly averaged data allows to identify potential increased risk to certain extreme events but not exact dates since that would not be feasible in modelling. \n",
    "\n",
    "Policymakers, think-tanks and business around the US regardless of their level can benefit from this dataset as they can limit their exposure to climate change risk based on these key indicators. "
   ]
  },
  {
   "cell_type": "markdown",
   "id": "2c548c00-3a75-45f0-b1e8-44d7b116779e",
   "metadata": {},
   "source": [
    "Let’s take a closer look of our example for Santa Barbara:"
   ]
  },
  {
   "cell_type": "code",
   "execution_count": null,
   "id": "9558086a-3c30-4690-bffd-a2bcecd63978",
   "metadata": {},
   "outputs": [],
   "source": [
    "# store an object representing the time to use for the x-axis\n",
    "sb_mean_precip_time = sb_mean_precip['time']"
   ]
  },
  {
   "cell_type": "code",
   "execution_count": null,
   "id": "bdebf898-c1ea-4ada-a420-1d486fc0e360",
   "metadata": {},
   "outputs": [],
   "source": [
    "# use groupby to get a single data value per time interval for the region of interest\n",
    "sb_mean_precip_summary = sb_mean_precip.groupby('time').mean(['lat', 'lon'])"
   ]
  },
  {
   "cell_type": "code",
   "execution_count": null,
   "id": "42aab081-2788-4de4-ac73-88a138d63867",
   "metadata": {},
   "outputs": [],
   "source": [
    "# create a plot to show expected precipitation over the entire time period for the sb area\n",
    "plt.figure(figsize = (10,6), dpi = 300)\n",
    "plt.plot(sb_mean_precip_time, sb_mean_precip_summary['ens-avg_pr'])\n",
    "plt.title(\"Monthly Average Precipitation\")\n",
    "plt.xlabel(\"Time\")\n",
    "plt.ylabel(\"Precipitation (kg m-2 s-1)\")"
   ]
  },
  {
   "cell_type": "code",
   "execution_count": null,
   "id": "8a0bdac9-7ffb-4b57-826b-b1aeb13a0eab",
   "metadata": {},
   "outputs": [],
   "source": [
    "# establish a start date and end date to explore a more specific timeframe\n",
    "start_date = np.datetime64('2021-10-31')\n",
    "end_date = np.datetime64('2041-10-31')\n",
    "\n",
    "# create a subset of the data that includes only this time period\n",
    "sb_mean_precip_sub = sb_mean_precip[\"ens-avg_pr\"].sel(time = slice(start_date, end_date))"
   ]
  },
  {
   "cell_type": "code",
   "execution_count": null,
   "id": "c1f063dc-e3c3-4eb8-a41b-2a4ba970678f",
   "metadata": {},
   "outputs": [],
   "source": [
    "# store an object representing the time to use for the x-axis\n",
    "sb_mean_precip_sub_time = sb_mean_precip_sub['time']\n",
    "\n",
    "# use groupby to get a single data value per time interval for the region of interest\n",
    "sb_mean_precip_sub_summary = sb_mean_precip_sub.groupby('time').mean(['lat', 'lon'])"
   ]
  },
  {
   "cell_type": "code",
   "execution_count": null,
   "id": "b729d443-81ca-4d02-a937-0ee5512df1c3",
   "metadata": {},
   "outputs": [],
   "source": [
    "# plot this subset of the precipitation dataset\n",
    "plt.figure(figsize = (10,6), dpi = 300)\n",
    "plt.plot(sb_mean_precip_sub_time, sb_mean_precip_sub_summary)\n",
    "plt.title(\"Monthly Average Precipitation\")\n",
    "plt.xlabel(\"Time\")\n",
    "plt.ylabel(\"Precipitation (kg m-2 s-1)\")"
   ]
  },
  {
   "cell_type": "code",
   "execution_count": null,
   "id": "a822f6fa-f757-49c6-8f24-0d89dd257fb8",
   "metadata": {},
   "outputs": [],
   "source": [
    "# repeat above steps to plot the maximum temperature data for the full time period\n",
    "sb_mean_max_temp_time = sb_mean_max_temp['time']\n",
    "sb_mean_max_temp_summary = sb_mean_max_temp.groupby('time').mean(['lat', 'lon'])\n",
    "plt.figure(figsize = (10,6), dpi = 300)\n",
    "plt.plot(sb_mean_max_temp_time, sb_mean_max_temp_summary['ens-avg_tasmax'])\n",
    "plt.title(\"Monthly Average Maximum Near-Surface Air Temperature\")\n",
    "plt.xlabel(\"Time\")\n",
    "plt.ylabel(\"Temperature (Degrees Kelvin)\")"
   ]
  },
  {
   "cell_type": "code",
   "execution_count": null,
   "id": "a2060e29-2144-4457-869e-b79c1ac56948",
   "metadata": {},
   "outputs": [],
   "source": [
    "# repeat above steps to plot the minimum temperature data for the full time period\n",
    "sb_mean_min_temp_time = sb_mean_min_temp['time']\n",
    "sb_mean_min_temp_summary = sb_mean_min_temp.groupby('time').mean(['lat', 'lon'])\n",
    "plt.figure(figsize = (10,6), dpi = 300)\n",
    "plt.plot(sb_mean_min_temp_time, sb_mean_min_temp_summary['ens-avg_tasmin'])\n",
    "plt.title(\"Monthly Average Minimum Near-Surface Air Temperature\")\n",
    "plt.xlabel(\"Time\")\n",
    "plt.ylabel(\"Temperature (Degrees Kelvin)\")"
   ]
  },
  {
   "cell_type": "markdown",
   "id": "45f607db-2ee6-47d8-9ca6-7dd8d6341118",
   "metadata": {},
   "source": [
    "# 4. Prepare dataset overview for class presentation"
   ]
  },
  {
   "cell_type": "markdown",
   "id": "4aaa31a6-2175-4b7a-b163-a68618e74a0f",
   "metadata": {},
   "source": [
    "A short presentation was prepared for our class summarizing the results of the work above. The slides can be found here: https://docs.google.com/presentation/d/1gm9SebCXzmdPh4qMBduHCsOx_54i3758oSZKyAa5g7E/edit?usp=sharing"
   ]
  },
  {
   "cell_type": "code",
   "execution_count": 4,
   "id": "8ca4a545-a0e5-40f0-9c62-4b58bdc001d1",
   "metadata": {},
   "outputs": [],
   "source": [
    "sb_county = gpd.read_file('tl_2019_06083_faces/tl_2019_06083_faces.shp')\n",
    "\n",
    "xmin, ymin, xmax, ymax = sb_county.total_bounds"
   ]
  },
  {
   "cell_type": "code",
   "execution_count": 6,
   "id": "67bb19fc-3cd0-4ceb-961c-0d2f721444df",
   "metadata": {},
   "outputs": [
    {
     "data": {
      "text/plain": [
       "array([-120.734382,   33.411024, -118.962728,   35.114678])"
      ]
     },
     "execution_count": 6,
     "metadata": {},
     "output_type": "execute_result"
    }
   ],
   "source": [
    "sb_county.total_bounds"
   ]
  },
  {
   "cell_type": "code",
   "execution_count": null,
   "id": "83c7055e-9a1a-46fc-939d-52f35d983ec7",
   "metadata": {},
   "outputs": [],
   "source": []
  }
 ],
 "metadata": {
  "kernelspec": {
   "display_name": "Python 3 (ipykernel)",
   "language": "python",
   "name": "python3"
  },
  "language_info": {
   "codemirror_mode": {
    "name": "ipython",
    "version": 3
   },
   "file_extension": ".py",
   "mimetype": "text/x-python",
   "name": "python",
   "nbconvert_exporter": "python",
   "pygments_lexer": "ipython3",
   "version": "3.7.12"
  }
 },
 "nbformat": 4,
 "nbformat_minor": 5
}
