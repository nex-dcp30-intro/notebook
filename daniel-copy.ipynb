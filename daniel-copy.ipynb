{
 "cells": [
  {
   "cell_type": "markdown",
   "id": "8a19ae70-6f1e-4f0c-8140-5d9a40ad5ca9",
   "metadata": {},
   "source": [
    "# Use case scenario 1"
   ]
  },
  {
   "cell_type": "markdown",
   "id": "e5f5a5b0-31c1-400e-9904-50b8764edb69",
   "metadata": {},
   "source": [
    "One possible use case for this data would be to create maps of predicted maximum temperature accross the county for various future dates. An overall understanding of possible future temperatures can create urgency for county and city officials to identify vulnerable populations such as low income households and implement programs to address these vulnerabilities. These maps would also provide officials with the information necessary to plan and allocate resources based on the need in specific areas. For instance, if certain areas of the county are predicted to experience life threatening heat, preparations can be made to protect residents of those areas and implement mitigation measures such as adequate air conditioning. Other risk factors in these areas can also be identified and addressed, such as possible fire risks. Additionally, these maps could aid in the understanding of economic effects of future temperatures such as possible changes in crop yields."
   ]
  },
  {
   "cell_type": "markdown",
   "id": "fe834bb7-b621-408a-b568-43908f4aba9c",
   "metadata": {},
   "source": [
    "# Use case scenario 2"
   ]
  },
  {
   "cell_type": "markdown",
   "id": "f130cfac-69b2-48be-a881-e30018485e18",
   "metadata": {},
   "source": [
    "Another use case scenario for this data would be to create maps of predicted precipitation across the county. Possible future changes in precipitation have serious implications for water resources planning and disaster mitigation. Increased precipitation could lead to an increase in flooding, landslides, and debris flows. Decreased precipitation can lead to drought, increased fire risk, and negative economic effects due to the effect on crops and livestock. These maps could provide county and city officials with the information needed to plan for possible changes in precipitation in various areas accross the county. "
   ]
  },
  {
   "cell_type": "code",
   "execution_count": null,
   "id": "c991c2ec-398d-49da-af77-c0b75e273e4c",
   "metadata": {},
   "outputs": [],
   "source": []
  }
 ],
 "metadata": {
  "kernelspec": {
   "display_name": "Python 3 (ipykernel)",
   "language": "python",
   "name": "python3"
  },
  "language_info": {
   "codemirror_mode": {
    "name": "ipython",
    "version": 3
   },
   "file_extension": ".py",
   "mimetype": "text/x-python",
   "name": "python",
   "nbconvert_exporter": "python",
   "pygments_lexer": "ipython3",
   "version": "3.7.12"
  }
 },
 "nbformat": 4,
 "nbformat_minor": 5
}
